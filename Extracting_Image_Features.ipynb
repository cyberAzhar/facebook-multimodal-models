{
  "nbformat": 4,
  "nbformat_minor": 0,
  "metadata": {
    "colab": {
      "name": "Extracting Image Features.ipynb",
      "private_outputs": true,
      "provenance": [],
      "collapsed_sections": [],
      "mount_file_id": "1X83Y0B86DOhwvghlLlBer2OMV0sLsEda",
      "authorship_tag": "ABX9TyOSnQu8h5u6bDj6u9yjzk3f",
      "include_colab_link": true
    },
    "kernelspec": {
      "name": "python3",
      "display_name": "Python 3"
    },
    "accelerator": "GPU"
  },
  "cells": [
    {
      "cell_type": "markdown",
      "metadata": {
        "id": "view-in-github",
        "colab_type": "text"
      },
      "source": [
        "<a href=\"https://colab.research.google.com/github/prakashaditya369/multimodal-models/blob/main/Extracting_Image_Features.ipynb\" target=\"_parent\"><img src=\"https://colab.research.google.com/assets/colab-badge.svg\" alt=\"Open In Colab\"/></a>"
      ]
    },
    {
      "cell_type": "code",
      "metadata": {
        "id": "O3Xru4YC-IeE"
      },
      "source": [
        "!unzip \"/content/drive/My Drive/Facebook Hateful Memes/img250.zip\""
      ],
      "execution_count": null,
      "outputs": []
    },
    {
      "cell_type": "code",
      "metadata": {
        "id": "mjGA4i9q5WVa"
      },
      "source": [
        "import pandas as pd\n",
        "import numpy as np"
      ],
      "execution_count": null,
      "outputs": []
    },
    {
      "cell_type": "code",
      "metadata": {
        "id": "B7A-61zZ6HWE"
      },
      "source": [
        "train_data = pd.read_json(\"/content/drive/My Drive/Facebook Hateful Memes/train.jsonl\",lines = True)\n",
        "dev_data = pd.read_json(\"/content/drive/My Drive/Facebook Hateful Memes/dev.jsonl\",lines = True)\n",
        "test_data = pd.read_json(\"/content/drive/My Drive/Facebook Hateful Memes/test.jsonl\",lines = True)"
      ],
      "execution_count": null,
      "outputs": []
    },
    {
      "cell_type": "code",
      "metadata": {
        "id": "E-FIv75d9WPK"
      },
      "source": [
        "print(\"Train Size:\",train_data.shape[0])\n",
        "print(\"Dev Size:\",dev_data.shape[0])\n",
        "print(\"Test Size:\",test_data.shape[0])"
      ],
      "execution_count": null,
      "outputs": []
    },
    {
      "cell_type": "code",
      "metadata": {
        "id": "N5IBT2WG-Yp2"
      },
      "source": [
        "from keras.preprocessing import image\n",
        "from keras.applications.vgg16 import VGG16\n",
        "from keras.applications.vgg16 import preprocess_input\n",
        "import numpy as np\n",
        "\n",
        "model = VGG16(weights='imagenet', include_top=False)\n",
        "model.summary()\n",
        "def progress(percent=0, width=30):\n",
        "  left = int(width * percent) // 100\n",
        "  right = width - left\n",
        "  print('\\r[', '#' * left, ' ' * right, ']',\n",
        "        f' {percent:.2f}%',\n",
        "        sep='', end='', flush=True)\n",
        "def get_features(img_path):\n",
        "  img = image.load_img(img_path, target_size=(229, 229))\n",
        "  img_data = image.img_to_array(img)\n",
        "  img_data = np.expand_dims(img_data, axis=0)\n",
        "  img_data = preprocess_input(img_data)\n",
        "  image_feature = model.predict(img_data).squeeze()\n",
        "  # image_feature = image_feature.reshape(-1)\n",
        "  return image_feature"
      ],
      "execution_count": null,
      "outputs": []
    },
    {
      "cell_type": "code",
      "metadata": {
        "id": "AKsBL4hXZ9xY"
      },
      "source": [
        "def save_features(data,file_name):\n",
        "  features = []\n",
        "  i = 1\n",
        "  for img_p in data['img']:\n",
        "    progress(i*100/data.shape[0])\n",
        "    img_path = \"/content/\"+img_p\n",
        "    features.append(get_features(img_path))\n",
        "    i+=1\n",
        "  features = np.array(features)\n",
        "  print(\"\\n\",features.shape)\n",
        "  PATH = \"/content/drive/My Drive/Facebook Hateful Memes/\"+file_name+\".npy\"\n",
        "  print(\"Saving File in Drive at:\",PATH)\n",
        "  np.save(PATH,features)\n",
        "  print(\"Saved!!!\")"
      ],
      "execution_count": null,
      "outputs": []
    },
    {
      "cell_type": "code",
      "metadata": {
        "id": "dJkB7shvdovW"
      },
      "source": [
        "save_features(train_data,\"train_channel_features\")\n",
        "print(\"Train Features Saved\")\n",
        "save_features(dev_data,\"dev_channel_features\")\n",
        "print(\"Dev Features Saved\")\n",
        "save_features(test_data,\"test_channel_features\")\n",
        "print(\"Test Features Saved\")"
      ],
      "execution_count": null,
      "outputs": []
    }
  ]
}